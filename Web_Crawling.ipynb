{
  "nbformat": 4,
  "nbformat_minor": 0,
  "metadata": {
    "colab": {
      "name": "Web Crawling.ipynb",
      "provenance": []
    },
    "kernelspec": {
      "name": "python3",
      "display_name": "Python 3"
    },
    "language_info": {
      "name": "python"
    }
  },
  "cells": [
    {
      "cell_type": "code",
      "execution_count": null,
      "metadata": {
        "colab": {
          "base_uri": "https://localhost:8080/"
        },
        "id": "ab3WXzr1FPPs",
        "outputId": "a4631bc5-4bdf-4802-8e37-8652c827f648"
      },
      "outputs": [
        {
          "output_type": "stream",
          "name": "stdout",
          "text": [
            "FSU:  54\n"
          ]
        }
      ],
      "source": [
        "#Python program to scrape website\n",
        "#and save quotes from website\n",
        "import requests\n",
        "from bs4 import BeautifulSoup\n",
        "import csv\n",
        "\n",
        "URL = \"http://www.values.com/inspirational-quotes\"\n",
        "URL1 = \"https://www.usnews.com/best-graduate-schools/top-science-schools/computer-science-rankings\"\n",
        "URL2 = \"https://www.cs.fsu.edu/department/faculty/\"\n",
        "\n",
        "r = requests.get(URL2)\n",
        "soup = BeautifulSoup(r.content, 'html5lib')\n",
        "elements = soup.find_all(\"strong\")\n",
        "print(\"FSU: \", len(elements))\n",
        "\n",
        "\n"
      ]
    },
    {
      "cell_type": "code",
      "source": [
        "names = []\n",
        "\n",
        "URL = \"https://www.cs.washington.edu/people/faculty\"\n",
        "r = requests.get(URL)\n",
        "soup = BeautifulSoup(r.content, 'html5lib')\n",
        "get_name = soup.find_all(\"div\",{\"class\" : \"directory-name\"})\n",
        "\n",
        "for i in get_name:\n",
        "    names.append(i.contents[0].string)\n",
        "    # for name in i.contents[0].children: #结果相同\n",
        "    #     names.append(name)\n",
        "names"
      ],
      "metadata": {
        "id": "B3q3SsAfRbVG"
      },
      "execution_count": null,
      "outputs": []
    },
    {
      "cell_type": "code",
      "source": [
        "offices = []\n",
        "get_offices = soup.find_all(\"div\", {\"class\": \"directory-office\"})\n",
        "for office in get_offices:\n",
        "    offices.append(office.string)\n",
        "offices"
      ],
      "metadata": {
        "id": "EA8GNcLXRNV2"
      },
      "execution_count": null,
      "outputs": []
    },
    {
      "cell_type": "code",
      "source": [
        "import pandas as pd\n",
        "df = pd.DataFrame({'name': names,\n",
        "           'office': offices})\n",
        "df.to_csv(\"./mydata.csv\", index = True)"
      ],
      "metadata": {
        "id": "U62yrbcQcTCS"
      },
      "execution_count": null,
      "outputs": []
    },
    {
      "cell_type": "code",
      "source": [
        "from google.colab import files\n",
        "files.download('mydata.csv')"
      ],
      "metadata": {
        "colab": {
          "base_uri": "https://localhost:8080/",
          "height": 17
        },
        "id": "ReCtalxGdcru",
        "outputId": "4cc372b3-4eec-4d64-8e2e-090e7783d2ca"
      },
      "execution_count": null,
      "outputs": [
        {
          "output_type": "display_data",
          "data": {
            "application/javascript": [
              "\n",
              "    async function download(id, filename, size) {\n",
              "      if (!google.colab.kernel.accessAllowed) {\n",
              "        return;\n",
              "      }\n",
              "      const div = document.createElement('div');\n",
              "      const label = document.createElement('label');\n",
              "      label.textContent = `Downloading \"${filename}\": `;\n",
              "      div.appendChild(label);\n",
              "      const progress = document.createElement('progress');\n",
              "      progress.max = size;\n",
              "      div.appendChild(progress);\n",
              "      document.body.appendChild(div);\n",
              "\n",
              "      const buffers = [];\n",
              "      let downloaded = 0;\n",
              "\n",
              "      const channel = await google.colab.kernel.comms.open(id);\n",
              "      // Send a message to notify the kernel that we're ready.\n",
              "      channel.send({})\n",
              "\n",
              "      for await (const message of channel.messages) {\n",
              "        // Send a message to notify the kernel that we're ready.\n",
              "        channel.send({})\n",
              "        if (message.buffers) {\n",
              "          for (const buffer of message.buffers) {\n",
              "            buffers.push(buffer);\n",
              "            downloaded += buffer.byteLength;\n",
              "            progress.value = downloaded;\n",
              "          }\n",
              "        }\n",
              "      }\n",
              "      const blob = new Blob(buffers, {type: 'application/binary'});\n",
              "      const a = document.createElement('a');\n",
              "      a.href = window.URL.createObjectURL(blob);\n",
              "      a.download = filename;\n",
              "      div.appendChild(a);\n",
              "      a.click();\n",
              "      div.remove();\n",
              "    }\n",
              "  "
            ],
            "text/plain": [
              "<IPython.core.display.Javascript object>"
            ]
          },
          "metadata": {}
        },
        {
          "output_type": "display_data",
          "data": {
            "application/javascript": [
              "download(\"download_cbb6175e-0086-44bf-b85e-97a1c51ad325\", \"mydata.csv\", 2297)"
            ],
            "text/plain": [
              "<IPython.core.display.Javascript object>"
            ]
          },
          "metadata": {}
        }
      ]
    }
  ]
}